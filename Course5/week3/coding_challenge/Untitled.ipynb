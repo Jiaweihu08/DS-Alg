{
 "cells": [
  {
   "cell_type": "code",
   "execution_count": 54,
   "metadata": {
    "scrolled": false
   },
   "outputs": [],
   "source": [
    "from itertools import product, combinations, permutations\n",
    "import os\n",
    "\n",
    "clauses = []\n",
    "digits = range(1, 10)\n",
    "\n",
    "def varnum(i, j, k):\n",
    "    assert(i in digits and j in digits and k in digits)\n",
    "    return 100*i + 10*j + k\n",
    "\n",
    "def exactly_olne_of(literals):\n",
    "    clauses.append([l for l in literals])\n",
    "\n",
    "    for pair in combinations(literals, 2):\n",
    "        clauses.append([-l for l in pair])\n",
    "\n",
    "# there has to be one and only one of the 9 numbers in each cell \n",
    "for i, j in product(digits, repeat=2):\n",
    "#     print([varnum(i, j, k) for k in digits])\n",
    "    exactly_one_of([varnum(i, j, k) for k in digits])\n",
    "\n",
    "# no number can appear more than once in each row\n",
    "for i, k in product(digits, repeat=2):\n",
    "#     print([varnum(i, j, k) for j in digits])\n",
    "    exactly_one_of([varnum(i, j, k) for j in digits])\n",
    "    \n",
    "# no number can appear more than once in each column\n",
    "for j, k in product(digits, repeat=2):\n",
    "#     print([varnum(i, j, k) for i in digits])\n",
    "    exactly_one_of([varnum(i, j, k) for i in digits])\n",
    "\n",
    "# no number can appear more than once in each 3x3 grid\n",
    "for i, j in product([1, 4, 7], repeat=2):\n",
    "    for k in digits:\n",
    "        exactly_one_of([varnum(i + deltai, j + deltaj, k) for deltai, deltaj in product(range(3), repeat=2)])"
   ]
  },
  {
   "cell_type": "code",
   "execution_count": 93,
   "metadata": {},
   "outputs": [
    {
     "name": "stdout",
     "output_type": "stream",
     "text": [
      "100 48\n"
     ]
    },
    {
     "data": {
      "text/plain": [
       "[[11, 12, 13, 0],\n",
       " [-11, -12, 0],\n",
       " [-11, -13, 0],\n",
       " [-12, -13, 0],\n",
       " [21, 22, 23, 0],\n",
       " [-21, -22, 0],\n",
       " [-21, -23, 0],\n",
       " [-22, -23, 0],\n",
       " [31, 32, 33, 0],\n",
       " [-31, -32, 0],\n",
       " [-31, -33, 0],\n",
       " [-32, -33, 0],\n",
       " [11, 21, 31, 0],\n",
       " [-11, -21, 0],\n",
       " [-11, -31, 0],\n",
       " [-21, -31, 0],\n",
       " [12, 22, 32, 0],\n",
       " [-12, -22, 0],\n",
       " [-12, -32, 0],\n",
       " [-22, -32, 0],\n",
       " [13, 23, 33, 0],\n",
       " [-13, -23, 0],\n",
       " [-13, -33, 0],\n",
       " [-23, -33, 0],\n",
       " [21, 11, 31, 0],\n",
       " [-21, -11, 0],\n",
       " [-21, -31, 0],\n",
       " [-11, -31, 0],\n",
       " [22, 12, 32, 0],\n",
       " [-22, -12, 0],\n",
       " [-22, -32, 0],\n",
       " [-12, -32, 0],\n",
       " [23, 13, 33, 0],\n",
       " [-23, -13, 0],\n",
       " [-23, -33, 0],\n",
       " [-13, -33, 0],\n",
       " [31, 21, 11, 0],\n",
       " [-31, -21, 0],\n",
       " [-31, -11, 0],\n",
       " [-21, -11, 0],\n",
       " [32, 22, 12, 0],\n",
       " [-32, -22, 0],\n",
       " [-32, -12, 0],\n",
       " [-22, -12, 0],\n",
       " [33, 23, 13, 0],\n",
       " [-33, -23, 0],\n",
       " [-33, -13, 0],\n",
       " [-23, -13, 0]]"
      ]
     },
     "execution_count": 93,
     "metadata": {},
     "output_type": "execute_result"
    }
   ],
   "source": [
    "color_digits = range(1, 4)\n",
    "clauses = []\n",
    "n = 3\n",
    "\n",
    "def varnum(i, j):\n",
    "    return 10 * i + j\n",
    "\n",
    "def exactly_one_of(literals):\n",
    "    clauses.append(literals)\n",
    "    \n",
    "    for pair in combinations(literals, 2):\n",
    "        clauses.append([-l for l in pair])\n",
    "\n",
    "for i in range(1, n + 1):\n",
    "    exactly_one_of([varnum(i, j) for j in color_digits])\n",
    "\n",
    "graph = [[1,2,3], [2,1,3], [3,2,1]]\n",
    "for v in graph:\n",
    "    for i in color_digits:\n",
    "        exactly_one_of([varnum(*pair) for pair in zip(v, [i]*len(v))])\n",
    "\n",
    "for clause in clauses:\n",
    "    clause.append(0)\n",
    "\n",
    "print(*[100, len(clauses)])\n",
    "clauses"
   ]
  },
  {
   "cell_type": "code",
   "execution_count": 99,
   "metadata": {},
   "outputs": [],
   "source": [
    "my_set = set([11, 12, 13])"
   ]
  },
  {
   "cell_type": "code",
   "execution_count": 101,
   "metadata": {},
   "outputs": [],
   "source": [
    "literals = [11,21,31]\n",
    "for l in literals:\n",
    "    my_set.add(l)"
   ]
  },
  {
   "cell_type": "code",
   "execution_count": 102,
   "metadata": {},
   "outputs": [
    {
     "data": {
      "text/plain": [
       "{11, 12, 13, 21, 31}"
      ]
     },
     "execution_count": 102,
     "metadata": {},
     "output_type": "execute_result"
    }
   ],
   "source": [
    "my_set"
   ]
  },
  {
   "cell_type": "code",
   "execution_count": null,
   "metadata": {},
   "outputs": [],
   "source": []
  },
  {
   "cell_type": "code",
   "execution_count": null,
   "metadata": {},
   "outputs": [],
   "source": []
  },
  {
   "cell_type": "code",
   "execution_count": null,
   "metadata": {},
   "outputs": [],
   "source": []
  }
 ],
 "metadata": {
  "kernelspec": {
   "display_name": "Python 3",
   "language": "python",
   "name": "python3"
  },
  "language_info": {
   "codemirror_mode": {
    "name": "ipython",
    "version": 3
   },
   "file_extension": ".py",
   "mimetype": "text/x-python",
   "name": "python",
   "nbconvert_exporter": "python",
   "pygments_lexer": "ipython3",
   "version": "3.7.4"
  }
 },
 "nbformat": 4,
 "nbformat_minor": 2
}
