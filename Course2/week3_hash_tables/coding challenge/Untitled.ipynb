{
 "cells": [
  {
   "cell_type": "code",
   "execution_count": 5,
   "metadata": {},
   "outputs": [],
   "source": [
    "class Solver:\n",
    "    def __init__(self, s, t):\n",
    "        self.s = s\n",
    "        self.t = t\n",
    "        self.m1 = 10 ** 9 + 5\n",
    "        self.m2 = 10 ** 9 + 11\n",
    "        self.x = 89\n",
    "        self.l = min(len(s), len(t))\n",
    "        self.y_mod1, self.y_mod2 = self.get_pow_x()\n",
    "        self.s_hash_table_mod1, self.s_hash_table_mod2 = self.get_hash_table()\n",
    "        self.t_hash_mod1, self.t_hash_mod2 = self.get_hashes(self.t)\n",
    "\n",
    "    def get_pow_x(self):\n",
    "        l = self.l + 1\n",
    "        pow_x_mod1 = [1] * l\n",
    "        pow_x_mod2 = [1] * l\n",
    "\n",
    "        for i in range(1, l):\n",
    "            pow_x_mod1[i] = self.x * pow_x_mod1[i - 1] % self.m1\n",
    "            pow_x_mod2[i] = self.x * pow_x_mod2[i - 1] % self.m2\n",
    "\n",
    "        return pow_x_mod1, pow_x_mod2\n",
    "\n",
    "    def get_hashes(self, s):\n",
    "        n = len(s) + 1\n",
    "        h_mod1, h_mod2 = [0] * n, [0] * n\n",
    "\n",
    "        for i in range(1, n):\n",
    "            h_mod1[i] = (self.x * h_mod1[i - 1] + ord(s[i - 1])) \\\n",
    "                                                        % self.m1\n",
    "            h_mod2[i] = (self.x * h_mod2[i - 1] + ord(s[i - 1])) \\\n",
    "                                                        % self.m2\n",
    "        return h_mod1, h_mod2\n",
    "\n",
    "    def get_hash_table(self):\n",
    "        h_mod1, h_mod2 = self.get_hashes(self.s)\n",
    "        n = len(self.s) + 1\n",
    "        s_hashes_mod1 = [[] for _ in range(n - 1)]\n",
    "        s_hashes_mod2 = [[] for _ in range(n - 1)]\n",
    "\n",
    "        for k in range(1, self.l + 1):\n",
    "            y_mod1 = self.y_mod1[k]\n",
    "            y_mod2 = self.y_mod2[k]\n",
    "\n",
    "            for i in range(n - k):\n",
    "                mod_1 = (h_mod1[i + k] - y_mod1 * h_mod1[i]) % self.m1\n",
    "                mod_2 = (h_mod2[i + k] - y_mod2 * h_mod2[i]) % self.m2\n",
    "                s_hashes_mod1[k - 1].append(mod_1)\n",
    "                s_hashes_mod2[k - 1].append(mod_2)\n",
    "\n",
    "        return s_hashes_mod1, s_hashes_mod2\n",
    "\n",
    "    def solve(self):\n",
    "        low = 1\n",
    "        high = self.l\n",
    "        idx_s = idx_t = length = 0\n",
    "        while low < high:\n",
    "            k = (low + high + 1) // 2\n",
    "#             print('k', k)\n",
    "            y_mod1 = self.y_mod1[k]\n",
    "            y_mod2 = self.y_mod2[k]\n",
    "            stop = False\n",
    "#             print('k', k)\n",
    "            for i in range(len(self.t) - k + 1):\n",
    "                mod_1 = (self.t_hash_mod1[i + k] - y_mod1 * \\\n",
    "                                        self.t_hash_mod1[i]) % self.m1\n",
    "                mod_2 = (self.t_hash_mod2[i + k] - y_mod2 * \\\n",
    "                                        self.t_hash_mod2[i]) % self.m2\n",
    "\n",
    "#                 print(len(self.s_hash_table_mod1[k - 1]))\n",
    "                for j in range(len(self.s_hash_table_mod1[k - 1])):\n",
    "#                     print('s:', j, 't:', i)\n",
    "#                     print(self.s, self.t)\n",
    "#                     print(self.s[j:j+k], self.t[i:i+k])\n",
    "                    if mod_1 == self.s_hash_table_mod1[k - 1][j] and \\\n",
    "                        mod_2 == self.s_hash_table_mod2[k - 1][j]:\n",
    "                        idx_s, idx_t, length = j, i, k\n",
    "#                         print(idx_s, idx_t)\n",
    "#                         print()\n",
    "                        stop = True\n",
    "                        break\n",
    "                if stop:\n",
    "                    low = k\n",
    "                    break\n",
    "\n",
    "            if not stop:\n",
    "                high = k - 1\n",
    "        return idx_s, idx_t, length"
   ]
  },
  {
   "cell_type": "code",
   "execution_count": 6,
   "metadata": {
    "scrolled": false
   },
   "outputs": [
    {
     "name": "stdout",
     "output_type": "stream",
     "text": [
      "\n",
      "cool toolbox\n",
      "1 1 3\n",
      "\n",
      "aaa bb\n",
      "0 0 0\n",
      "\n",
      "aabaa babbaab\n",
      "2 3 3\n"
     ]
    }
   ],
   "source": [
    "lines = ['cool toolbox', 'aaa bb', 'aabaa babbaab']\n",
    "for line in lines:\n",
    "    print()\n",
    "    print(line)\n",
    "    solver = Solver(*line.split())\n",
    "#     print('l:', solver.l)\n",
    "#     print(solver.s_hash_table_mod1)\n",
    "#     print(solver.t_hash_mod1)\n",
    "#     print('y_mod1', solver.y_mod1)\n",
    "    print(*solver.solve())\n",
    "# print()"
   ]
  },
  {
   "cell_type": "code",
   "execution_count": null,
   "metadata": {},
   "outputs": [],
   "source": []
  },
  {
   "cell_type": "code",
   "execution_count": null,
   "metadata": {},
   "outputs": [],
   "source": []
  },
  {
   "cell_type": "code",
   "execution_count": null,
   "metadata": {},
   "outputs": [],
   "source": []
  },
  {
   "cell_type": "code",
   "execution_count": null,
   "metadata": {},
   "outputs": [],
   "source": []
  },
  {
   "cell_type": "code",
   "execution_count": null,
   "metadata": {},
   "outputs": [],
   "source": []
  },
  {
   "cell_type": "code",
   "execution_count": null,
   "metadata": {},
   "outputs": [],
   "source": []
  },
  {
   "cell_type": "code",
   "execution_count": null,
   "metadata": {},
   "outputs": [],
   "source": []
  }
 ],
 "metadata": {
  "kernelspec": {
   "display_name": "Python 3",
   "language": "python",
   "name": "python3"
  },
  "language_info": {
   "codemirror_mode": {
    "name": "ipython",
    "version": 3
   },
   "file_extension": ".py",
   "mimetype": "text/x-python",
   "name": "python",
   "nbconvert_exporter": "python",
   "pygments_lexer": "ipython3",
   "version": "3.7.4"
  }
 },
 "nbformat": 4,
 "nbformat_minor": 2
}
